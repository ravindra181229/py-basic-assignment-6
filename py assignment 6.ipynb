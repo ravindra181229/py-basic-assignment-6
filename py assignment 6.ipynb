{
 "cells": [
  {
   "cell_type": "code",
   "execution_count": 1,
   "id": "c4c7a692",
   "metadata": {},
   "outputs": [
    {
     "data": {
      "text/plain": [
       "'the backslash \"\" is called as escape character\\nif we want to use single qoutes and double qoutes in a string we use escape character'"
      ]
     },
     "execution_count": 1,
     "metadata": {},
     "output_type": "execute_result"
    }
   ],
   "source": [
    "#1Q\n",
    "'''the backslash \"\\\" is called as escape character\n",
    "if we want to use single qoutes and double qoutes in a string we use escape character'''"
   ]
  },
  {
   "cell_type": "code",
   "execution_count": 2,
   "id": "a887767b",
   "metadata": {},
   "outputs": [
    {
     "data": {
      "text/plain": [
       "'n stands for newline\\nt stands for tab'"
      ]
     },
     "execution_count": 2,
     "metadata": {},
     "output_type": "execute_result"
    }
   ],
   "source": [
    "#2Q\n",
    "'''n stands for newline\n",
    "t stands for tab'''"
   ]
  },
  {
   "cell_type": "code",
   "execution_count": 3,
   "id": "c5e63a7f",
   "metadata": {},
   "outputs": [
    {
     "data": {
      "text/plain": [
       "'we use raw string to include backslash characters in a string'"
      ]
     },
     "execution_count": 3,
     "metadata": {},
     "output_type": "execute_result"
    }
   ],
   "source": [
    "#3Q\n",
    "'''we use raw string to include backslash characters in a string'''"
   ]
  },
  {
   "cell_type": "code",
   "execution_count": 5,
   "id": "7f9f4f84",
   "metadata": {},
   "outputs": [
    {
     "data": {
      "text/plain": [
       "'because we used double quotes to mark the beginning and end of the string'"
      ]
     },
     "execution_count": 5,
     "metadata": {},
     "output_type": "execute_result"
    }
   ],
   "source": [
    "#4Q\n",
    "'''because we used double quotes to mark the beginning and end of the string'''"
   ]
  },
  {
   "cell_type": "code",
   "execution_count": 6,
   "id": "c5e15822",
   "metadata": {},
   "outputs": [
    {
     "data": {
      "text/plain": [
       "' we write them in multiline string begin and end with three quotes(\"\"\") '"
      ]
     },
     "execution_count": 6,
     "metadata": {},
     "output_type": "execute_result"
    }
   ],
   "source": [
    "#5Q\n",
    "''' we write them in multiline string begin and end with three quotes(\"\"\") '''"
   ]
  },
  {
   "cell_type": "code",
   "execution_count": 7,
   "id": "f5c7fbb0",
   "metadata": {},
   "outputs": [
    {
     "data": {
      "text/plain": [
       "\" 'hello, world!'[1] is 'e'\\n'hello, world!'[0:5] is 'hello'\\n'hello, world!'[:5] is 'hello' \\n'hello, world!'[3:] is 'lo, world!'\""
      ]
     },
     "execution_count": 7,
     "metadata": {},
     "output_type": "execute_result"
    }
   ],
   "source": [
    "#6Q\n",
    "\"\"\" 'hello, world!'[1] is 'e'\n",
    "'hello, world!'[0:5] is 'hello'\n",
    "'hello, world!'[:5] is 'hello' \n",
    "'hello, world!'[3:] is 'lo, world!'\"\"\""
   ]
  },
  {
   "cell_type": "code",
   "execution_count": 8,
   "id": "7c348b63",
   "metadata": {},
   "outputs": [
    {
     "data": {
      "text/plain": [
       "\" 'Hello'.upper() is 'HELLO' \\n'Hello'.upper().isupper() is True\\n'Hello'.upper().lower() is 'hello' \""
      ]
     },
     "execution_count": 8,
     "metadata": {},
     "output_type": "execute_result"
    }
   ],
   "source": [
    "#7Q\n",
    "\"\"\" 'Hello'.upper() is 'HELLO' \n",
    "'Hello'.upper().isupper() is True\n",
    "'Hello'.upper().lower() is 'hello' \"\"\""
   ]
  },
  {
   "cell_type": "code",
   "execution_count": 9,
   "id": "7f769f5d",
   "metadata": {},
   "outputs": [
    {
     "data": {
      "text/plain": [
       "\"['Remember,remember,the', 'fifth', 'of', 'july.']\\n'There_can_only_one.' \""
      ]
     },
     "execution_count": 9,
     "metadata": {},
     "output_type": "execute_result"
    }
   ],
   "source": [
    "#8Q\n",
    "\"\"\"['Remember,remember,the', 'fifth', 'of', 'july.']\n",
    "'There_can_only_one.' \"\"\""
   ]
  },
  {
   "cell_type": "code",
   "execution_count": 11,
   "id": "16447e6e",
   "metadata": {},
   "outputs": [
    {
     "data": {
      "text/plain": [
       "' the methods are rjust(), ljust() and center(), which returns a string padder with spaces \\nthe rjust() returns a string padder with spaces on the right side \\nthe ljust() returns a string padder with spaces on the left side\\nthe center() returns a string padder with spaces with the text in the center'"
      ]
     },
     "execution_count": 11,
     "metadata": {},
     "output_type": "execute_result"
    }
   ],
   "source": [
    "#9Q\n",
    "\"\"\" the methods are rjust(), ljust() and center(), which returns a string padder with spaces \n",
    "the rjust() returns a string padder with spaces on the right side \n",
    "the ljust() returns a string padder with spaces on the left side\n",
    "the center() returns a string padder with spaces with the text in the center\"\"\""
   ]
  },
  {
   "cell_type": "code",
   "execution_count": 12,
   "id": "feeac49b",
   "metadata": {},
   "outputs": [
    {
     "data": {
      "text/plain": [
       "'we use strip() method '"
      ]
     },
     "execution_count": 12,
     "metadata": {},
     "output_type": "execute_result"
    }
   ],
   "source": [
    "#10Q\n",
    "\"\"\"we use strip() method \"\"\""
   ]
  },
  {
   "cell_type": "code",
   "execution_count": null,
   "id": "84c6ef2b",
   "metadata": {},
   "outputs": [],
   "source": []
  }
 ],
 "metadata": {
  "kernelspec": {
   "display_name": "Python 3",
   "language": "python",
   "name": "python3"
  },
  "language_info": {
   "codemirror_mode": {
    "name": "ipython",
    "version": 3
   },
   "file_extension": ".py",
   "mimetype": "text/x-python",
   "name": "python",
   "nbconvert_exporter": "python",
   "pygments_lexer": "ipython3",
   "version": "3.8.8"
  }
 },
 "nbformat": 4,
 "nbformat_minor": 5
}
